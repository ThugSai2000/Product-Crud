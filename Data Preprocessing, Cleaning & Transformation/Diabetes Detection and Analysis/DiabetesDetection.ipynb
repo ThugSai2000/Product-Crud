{
  "cells": [
    {
      "cell_type": "code",
      "source": [
        "!pip install numpy pandas matplotlib seaborn scipy"
      ],
      "metadata": {
        "id": "6dptpC0ERLDp"
      },
      "execution_count": null,
      "outputs": []
    },
    {
      "cell_type": "code",
      "execution_count": null,
      "metadata": {
        "id": "sUJnvYuSbfse"
      },
      "outputs": [],
      "source": [
        "import numpy as np\n",
        "import pandas as pd\n",
        "import matplotlib.pyplot as plt\n",
        "import seaborn as sns\n",
        "import os\n",
        "import scipy as sp\n",
        "import warnings\n",
        "warnings.filterwarnings(\"ignore\")\n",
        "%matplotlib inline"
      ]
    },
    {
      "cell_type": "markdown",
      "metadata": {
        "id": "ULDXOLw3bttu"
      },
      "source": [
        "OSEMN Pipeline\n",
        "\n",
        "O - Obtaining our data\n",
        "\n",
        "S - Scrubbing / Cleaning our data\n",
        "\n",
        "E - Exploring / Visualizing our data will allow us to find patterns and trends\n",
        "\n",
        "M - Modeling our data will give us our predictive power as a wizard\n",
        "\n",
        "N - Interpreting our data"
      ]
    },
    {
      "cell_type": "markdown",
      "metadata": {
        "id": "nsNLoIeViLJU"
      },
      "source": [
        "# Data Preprocessing"
      ]
    },
    {
      "cell_type": "code",
      "execution_count": null,
      "metadata": {
        "id": "0sWSdrX4bvJa"
      },
      "outputs": [],
      "source": [
        "df = pd.DataFrame(pd.read_csv(\"data/diabetes.csv\"))"
      ]
    },
    {
      "cell_type": "code",
      "execution_count": null,
      "metadata": {
        "id": "aEkVuwN_cBki"
      },
      "outputs": [],
      "source": [
        "#displaying the head of dataset\n",
        "df.head()"
      ]
    },
    {
      "cell_type": "code",
      "execution_count": null,
      "metadata": {
        "id": "N25A-_4hcE6_"
      },
      "outputs": [],
      "source": [
        "#description of dataset\n",
        "df.describe()"
      ]
    },
    {
      "cell_type": "code",
      "execution_count": null,
      "metadata": {
        "id": "XUOlURopcSqX"
      },
      "outputs": [],
      "source": [
        "df.columns"
      ]
    },
    {
      "cell_type": "code",
      "execution_count": null,
      "metadata": {
        "id": "97WITnR1cTP7"
      },
      "outputs": [],
      "source": [
        "df.info()"
      ]
    },
    {
      "cell_type": "code",
      "execution_count": null,
      "metadata": {
        "id": "TdU9SLVFhT3A"
      },
      "outputs": [],
      "source": [
        "#768 rows and 9 columns\n",
        "df.shape"
      ]
    },
    {
      "cell_type": "code",
      "execution_count": null,
      "metadata": {
        "id": "4H-tkIt7hZOl"
      },
      "outputs": [],
      "source": [
        "df.value_counts()"
      ]
    },
    {
      "cell_type": "code",
      "execution_count": null,
      "metadata": {
        "id": "y1NBks_khbvE"
      },
      "outputs": [],
      "source": [
        "df.dtypes"
      ]
    },
    {
      "cell_type": "code",
      "execution_count": null,
      "metadata": {
        "id": "Qf7q3qjuheFF"
      },
      "outputs": [],
      "source": [
        "df.columns"
      ]
    },
    {
      "cell_type": "code",
      "execution_count": null,
      "metadata": {
        "id": "nLwoH-wShjKW"
      },
      "outputs": [],
      "source": [
        "#checking for null values\n",
        "df.isnull().sum()"
      ]
    },
    {
      "cell_type": "code",
      "execution_count": null,
      "metadata": {
        "id": "_3yV12Q1hwwk"
      },
      "outputs": [],
      "source": [
        "df.isnull().any()"
      ]
    },
    {
      "cell_type": "code",
      "execution_count": null,
      "metadata": {
        "id": "hzBN0ZxKhxp3"
      },
      "outputs": [],
      "source": [
        "df.isnull().all()"
      ]
    },
    {
      "cell_type": "code",
      "execution_count": null,
      "metadata": {
        "id": "QxrQj37zh3MF"
      },
      "outputs": [],
      "source": [
        "#It is better to replace zeros with nan since after that counting them would be easier and zeros need to be replaced with suitable values\n",
        "df_new = df.copy(deep = True)\n",
        "df_new[['Glucose','BloodPressure','SkinThickness','Insulin','BMI']] = df_new[['Glucose','BloodPressure','SkinThickness','Insulin','BMI']].replace(0,np.NaN)\n",
        "\n",
        "## showing the count of Nans\n",
        "print(df_new.isnull().sum())"
      ]
    },
    {
      "cell_type": "code",
      "execution_count": null,
      "metadata": {
        "id": "9FBrEIwkh94W"
      },
      "outputs": [],
      "source": [
        "#Listing of 10 largest values for that field\n",
        "df.nlargest(10,['BloodPressure'])"
      ]
    },
    {
      "cell_type": "code",
      "execution_count": null,
      "metadata": {
        "id": "uDX_W0JQiGkT"
      },
      "outputs": [],
      "source": [
        "#Standardize the variable\n",
        "df_new = df.std()"
      ]
    },
    {
      "cell_type": "code",
      "execution_count": null,
      "metadata": {
        "id": "IpYkEjMIiXW8"
      },
      "outputs": [],
      "source": [
        "df_new"
      ]
    },
    {
      "cell_type": "code",
      "execution_count": null,
      "metadata": {
        "id": "1kjSOSSNiZzM"
      },
      "outputs": [],
      "source": [
        "df_new.mean()"
      ]
    },
    {
      "cell_type": "code",
      "execution_count": null,
      "metadata": {
        "id": "bPHL-mpDib32"
      },
      "outputs": [],
      "source": [
        "df_new.std()"
      ]
    },
    {
      "cell_type": "code",
      "execution_count": null,
      "metadata": {
        "id": "hLNkrepClBSx"
      },
      "outputs": [],
      "source": [
        "df_new.isnull().any()"
      ]
    },
    {
      "cell_type": "code",
      "execution_count": null,
      "metadata": {
        "id": "iWBGgcDmlK8N"
      },
      "outputs": [],
      "source": [
        "df_new.isnull().all()"
      ]
    },
    {
      "cell_type": "code",
      "source": [],
      "metadata": {
        "id": "nS0XSJ_mRIxl"
      },
      "execution_count": null,
      "outputs": []
    },
    {
      "cell_type": "markdown",
      "metadata": {
        "id": "SDVQFX4cid_C"
      },
      "source": [
        "# Exploratory Data Analysis\n"
      ]
    },
    {
      "cell_type": "code",
      "execution_count": null,
      "metadata": {
        "id": "0kP6mSn7iiyU"
      },
      "outputs": [],
      "source": [
        "df.corr()"
      ]
    },
    {
      "cell_type": "code",
      "execution_count": null,
      "metadata": {
        "id": "17msRD8Mio8e"
      },
      "outputs": [],
      "source": [
        "#A **heat map** is a two-dimensional representation of information with the help of colors. Heat maps can help the user visualize simple or complex information.\n",
        "#correlation\n",
        "# we can see skin thickness,insulin,pregnencies and age are full independent to each other\n",
        "#age and pregencies has negative correlation\n",
        "plt.figure(figsize = (12,10))\n",
        "sns.heatmap(df.corr(),annot = True)"
      ]
    },
    {
      "cell_type": "code",
      "execution_count": null,
      "metadata": {
        "id": "txeqN24SiwLX"
      },
      "outputs": [],
      "source": [
        "#Histogram\n",
        "df.hist(figsize = (10,10))\n",
        "plt.show()"
      ]
    },
    {
      "cell_type": "code",
      "execution_count": null,
      "metadata": {
        "id": "EVtXvWLzjPGg"
      },
      "outputs": [],
      "source": [
        "#pairplot\n",
        "mean_col = ['Glucose','BloodPressure','Insulin','Age','Outcome','BMI']\n",
        "sns.pairplot(df[mean_col],palette = 'Accent')"
      ]
    },
    {
      "cell_type": "code",
      "execution_count": null,
      "metadata": {
        "id": "h-AJRMJUjeEP"
      },
      "outputs": [],
      "source": [
        "sns.regplot(x='BMI',y='Glucose', data=df)"
      ]
    },
    {
      "cell_type": "code",
      "execution_count": null,
      "metadata": {
        "id": "lcoxC-mbjej8"
      },
      "outputs": [],
      "source": [
        "#scatterplot\n",
        "sns.jointplot(x='SkinThickness', y='Insulin', data=df)"
      ]
    },
    {
      "cell_type": "code",
      "execution_count": null,
      "metadata": {
        "id": "wm0fhJFxj1sr"
      },
      "outputs": [],
      "source": [
        "#barplot\n",
        "sns.barplot(x='SkinThickness', y='Insulin', data=df[170:180])\n",
        "plt.title(\"SkinThickness vs Insulin\", fontsize=15)\n",
        "plt.xlabel(\"SkinThickness\")\n",
        "plt.ylabel(\"Insulin\")\n",
        "plt.show()\n",
        "plt.style.use(\"ggplot\")"
      ]
    },
    {
      "cell_type": "code",
      "execution_count": null,
      "metadata": {
        "id": "DteO5VR3j5EU"
      },
      "outputs": [],
      "source": [
        "#barplot\n",
        "plt.style.use(\"default\")\n",
        "plt.figure(figsize=(5,5))\n",
        "sns.barplot(x='Glucose', y='Insulin', data=df[170:180])\n",
        "plt.title(\"Glucose vs Inslin\", fontsize=15)\n",
        "plt.xlabel(\"Glucose\")\n",
        "plt.ylabel(\"Insulin\")\n",
        "plt.show()"
      ]
    },
    {
      "cell_type": "code",
      "execution_count": null,
      "metadata": {
        "id": "-hEA-c8SjHc0"
      },
      "outputs": [],
      "source": [
        "# Lets count total outcome in each target 0 1\n",
        "#0 means no diabeted\n",
        "#1 means patient with diabtes\n",
        "sns.countplot(y=df['Outcome'],palette='Set1')"
      ]
    },
    {
      "cell_type": "code",
      "execution_count": null,
      "metadata": {
        "id": "Bvlq0DGskDZR"
      },
      "outputs": [],
      "source": [
        "sns.set(style=\"ticks\")\n",
        "sns.pairplot(df, hue=\"Outcome\")"
      ]
    },
    {
      "cell_type": "code",
      "execution_count": null,
      "metadata": {
        "id": "CeQtb3yfkF2v"
      },
      "outputs": [],
      "source": [
        "#box plot for outlier visualization\n",
        "sns.set(style=\"whitegrid\")\n",
        "df.boxplot(figsize=(15,6))"
      ]
    },
    {
      "cell_type": "code",
      "execution_count": null,
      "metadata": {
        "id": "M_ZB_eo6kH5u"
      },
      "outputs": [],
      "source": [
        "#box plot\n",
        "sns.set(style=\"whitegrid\")\n",
        "\n",
        "sns.set(rc={'figure.figsize':(4,2)})\n",
        "sns.boxplot(x=df['Insulin'])\n",
        "plt.show()\n",
        "sns.boxplot(x=df['BloodPressure'])\n",
        "plt.show()\n",
        "sns.boxplot(x=df['DiabetesPedigreeFunction'])\n",
        "plt.show()"
      ]
    },
    {
      "cell_type": "code",
      "execution_count": null,
      "metadata": {
        "id": "n4VflCr-kK0L"
      },
      "outputs": [],
      "source": [
        "#outlier remove\n",
        "\n",
        "Q1=df.quantile(0.25)\n",
        "Q3=df.quantile(0.75)\n",
        "IQR=Q3-Q1\n",
        "\n",
        "print(\"---Q1--- \\n\",Q1)\n",
        "print(\"\\n---Q3--- \\n\",Q3)\n",
        "print(\"\\n---IQR---\\n\",IQR)\n",
        "\n",
        "#print((df < (Q1 - 1.5 * IQR))|(df > (Q3 + 1.5 * IQR)))"
      ]
    },
    {
      "cell_type": "code",
      "execution_count": null,
      "metadata": {
        "id": "EgS_Ms-jkPJj"
      },
      "outputs": [],
      "source": [
        "#outlier remove\n",
        "df_out = df[~((df < (Q1 - 1.5 * IQR)) |(df > (Q3 + 1.5 * IQR))).any(axis=1)]\n",
        "df.shape,df_out.shape\n",
        "#more than 80 records deleted"
      ]
    },
    {
      "cell_type": "code",
      "execution_count": null,
      "metadata": {
        "id": "dhHKThNJkTyL"
      },
      "outputs": [],
      "source": [
        "#Scatter matrix after removing outlier\n",
        "sns.set(style=\"ticks\")\n",
        "sns.pairplot(df_out, hue=\"Outcome\")\n",
        "plt.show()"
      ]
    },
    {
      "cell_type": "code",
      "execution_count": null,
      "metadata": {
        "id": "zzEIuGWdqxXC"
      },
      "outputs": [],
      "source": [
        "# visualizing distribution of Y feature (predictive variable)\n",
        "plt.figure(figsize=(10,7))\n",
        "df_out.Outcome.value_counts().sort_index().plot.bar()\n",
        "diabetic_rate = df_out.Outcome.mean()\n",
        "plt.title(f\"Overall diabetes diagnosis rate: {diabetic_rate:.2%}\", size=17)\n",
        "plt.xlabel('Is diabetic?', size=17)\n",
        "plt.ylabel('Count of Patients', size=17)"
      ]
    },
    {
      "cell_type": "markdown",
      "metadata": {
        "id": "CuQbGMs1m2OD"
      },
      "source": [
        "# Data Modeling"
      ]
    },
    {
      "cell_type": "code",
      "execution_count": null,
      "metadata": {
        "id": "fxfvBPRfm6PY"
      },
      "outputs": [],
      "source": [
        "df.shape"
      ]
    },
    {
      "cell_type": "code",
      "execution_count": null,
      "metadata": {
        "id": "pNtRSEmcnCkH"
      },
      "outputs": [],
      "source": [
        "df.head()"
      ]
    },
    {
      "cell_type": "code",
      "execution_count": null,
      "metadata": {
        "id": "qLe5yhponYJZ"
      },
      "outputs": [],
      "source": [
        "#lets extract features and targets\n",
        "X=df_out.drop(columns=['Outcome'])\n",
        "y=df_out['Outcome']"
      ]
    },
    {
      "cell_type": "code",
      "execution_count": null,
      "metadata": {
        "id": "l9BZYp0JnbqV"
      },
      "outputs": [],
      "source": [
        "#Splitting train test data 80 20 ratio\n",
        "from sklearn.model_selection import train_test_split"
      ]
    },
    {
      "cell_type": "code",
      "execution_count": null,
      "metadata": {
        "id": "FsxWmE1Kos87"
      },
      "outputs": [],
      "source": [
        "X_train, X_test, y_train, y_test=train_test_split(X,y,test_size=0.2)"
      ]
    },
    {
      "cell_type": "code",
      "execution_count": null,
      "metadata": {
        "id": "etGiyAcwndL0"
      },
      "outputs": [],
      "source": [
        "X_train.shape,X_test.shape,y_train.shape,y_test.shape"
      ]
    },
    {
      "cell_type": "code",
      "execution_count": null,
      "metadata": {
        "id": "-cPbILWvnhdh"
      },
      "outputs": [],
      "source": [
        "from sklearn.metrics import confusion_matrix,accuracy_score,make_scorer\n",
        "from sklearn.model_selection import cross_validate\n",
        "\n",
        "def tn(y_test, y_pred): return confusion_matrix(y_test, y_train)[0, 0]\n",
        "def fp(y_test, y_pred): return confusion_matrix(y_test, y_pred)[0, 1]\n",
        "def fn(y_test, y_pred): return confusion_matrix(y_test, y_pred)[1, 0]\n",
        "def tp(y_test, y_pred): return confusion_matrix(y_test, y_pred)[1, 1]"
      ]
    },
    {
      "cell_type": "code",
      "execution_count": null,
      "metadata": {
        "id": "tKeNMLcLmzpU"
      },
      "outputs": [],
      "source": [
        "#cross validation purpose\n",
        "scoring = {'accuracy': make_scorer(accuracy_score),'prec': 'precision'}\n",
        "scoring = {'tp': make_scorer(tp), 'tn': make_scorer(tn),\n",
        "           'fp': make_scorer(fp), 'fn': make_scorer(fn)}\n",
        "\n",
        "def display_result(result):\n",
        "    print(\"TP: \",result['test_tp'])\n",
        "    print(\"TN: \",result['test_tn'])\n",
        "    print(\"FN: \",result['test_fn'])\n",
        "    print(\"FP: \",result['test_fp'])"
      ]
    },
    {
      "cell_type": "code",
      "execution_count": null,
      "metadata": {
        "id": "-kqJixSBnm4q"
      },
      "outputs": [],
      "source": [
        "#Perform 2 sample z-test\n",
        "from statsmodels.stats.weightstats import ztest as ztest\n",
        "ztest(X_train['BMI'],X_train['Age'],value=0)"
      ]
    },
    {
      "cell_type": "markdown",
      "metadata": {
        "id": "c8YnEr05UCMD"
      },
      "source": [
        "# Implementation of Statistical Hypothesis Test using Scipy and Sci-kit"
      ]
    },
    {
      "cell_type": "code",
      "execution_count": null,
      "metadata": {
        "id": "kp-51j_-WsmJ"
      },
      "outputs": [],
      "source": [
        "!pip install researchpy\n",
        "import researchpy as rp"
      ]
    },
    {
      "cell_type": "code",
      "execution_count": null,
      "metadata": {
        "id": "c8x8o3IZVWtm"
      },
      "outputs": [],
      "source": [
        "df.groupby(\"Outcome\").agg({\"Glucose\":[np.mean, np.std, np.size]})"
      ]
    },
    {
      "cell_type": "code",
      "execution_count": null,
      "metadata": {
        "id": "IRWZJC3QVnhu"
      },
      "outputs": [],
      "source": [
        "df_glucose = df[['Glucose', 'Outcome']]"
      ]
    },
    {
      "cell_type": "code",
      "execution_count": null,
      "metadata": {
        "id": "USuJMhsXVwc9"
      },
      "outputs": [],
      "source": [
        "df_glucose[\"Outcome\"].replace({1: \"Diabetes\", 0: \"NotDiabetes\"}, inplace=True)\n",
        "df_glucose\n",
        "# Need to convert 1 and 0 in Outcome column to Diabetes and NotDiabetes respectively for further hypothesis testing"
      ]
    },
    {
      "cell_type": "code",
      "execution_count": null,
      "metadata": {
        "id": "AD4QMPENV0_b"
      },
      "outputs": [],
      "source": [
        "rp.ttest(group1= df_glucose['Glucose'][df_glucose['Outcome'] == 'Diabetes'], group1_name= \"Diabetes\",\n",
        "         group2= df_glucose['Glucose'][df_glucose['Outcome'] == 'NotDiabetes'], group2_name= \"NotDiabetes\")"
      ]
    },
    {
      "cell_type": "code",
      "execution_count": null,
      "metadata": {
        "id": "fuyjhSudV3ro"
      },
      "outputs": [],
      "source": [
        "from scipy.stats import norm\n",
        "mu, std = norm.fit(df_glucose['Glucose'])\n",
        "plt.figure(figsize = [12, 8])\n",
        "sns.distplot(df_glucose['Glucose'], hist=True, kde=True,\n",
        "             bins=25, color = 'b',\n",
        "             hist_kws={'edgecolor':'black'},\n",
        "             kde_kws={'linewidth': 2});\n",
        "plt.title(\"Fit results: $\\mu$ = %.2f,  $\\sigma$ = %.2f\" % (mu, std), size=15)\n",
        "plt.xlabel(\"Glucose\", size=15)\n",
        "plt.ylabel(\"Density\", size=15);"
      ]
    },
    {
      "cell_type": "code",
      "execution_count": null,
      "metadata": {
        "id": "MXoPTcrWUY7i"
      },
      "outputs": [],
      "source": [
        "import scipy.stats as st\n",
        "Mu = 72.4\n",
        "# Std = ?  Population standard deviatin is unknown\n",
        "\n",
        "x = df['BloodPressure']  # Storing values in a list to avoid long names\n",
        "est_pop_std = np.sqrt(np.sum(abs(x - x.mean())**2) / (df.size - 1))     #  sqrt(sum(xi - Xbar)^2 / (n -1))\n",
        "\n",
        "sample_avg_bp =(df['BloodPressure']).mean()\n",
        "\n",
        "std_error_bp = est_pop_std / np.sqrt(df.size) # Standard dev of the sampling mean distribution... estimated from population\n",
        "\n",
        "T_Statistic = (( sample_avg_bp - Mu) / std_error_bp)\n",
        "\n",
        "pvalue = st.t.sf(np.abs(T_Statistic), df.size-1)*2\n",
        "print(\"Estimated Pop Stand Dev\" , est_pop_std)\n",
        "print(\"Sample Avg BP : \" , sample_avg_bp)\n",
        "print(\"Standard Error: \" , std_error_bp)\n",
        "print(\"T Statistic\" , T_Statistic)\n",
        "print(\"Pval\" , pvalue)\n",
        "\n",
        "if pvalue > 0.05:\n",
        "\tprint('Samples are likely drawn from the same distributions (fail to reject H0)')\n",
        "else:\n",
        "\tprint('Samples are likely drawn from different distributions (reject H0)')"
      ]
    },
    {
      "cell_type": "code",
      "execution_count": null,
      "metadata": {
        "id": "xlgVgZzwUaHo"
      },
      "outputs": [],
      "source": [
        "df_mod = df.copy()\n",
        "df_mod['BloodPressure'] = df_mod['BloodPressure'].mask(df['BloodPressure'] == 0,df['BloodPressure'].median())"
      ]
    },
    {
      "cell_type": "code",
      "execution_count": null,
      "metadata": {
        "id": "wyk92NWhUeKG"
      },
      "outputs": [],
      "source": [
        "from scipy.stats import ttest_ind\n",
        "\n",
        "stat, pvalue = ttest_ind(df_mod['BloodPressure'] , df['BloodPressure'])\n",
        "print(\"compare means\", df_mod['BloodPressure'].mean() , df['BloodPressure'].mean())\n",
        "print(\"Tstatistic , Pvalue\", stat, pvalue)\n",
        "\n",
        "if pvalue > 0.05:\n",
        "    print('Samples are likely drawn from the same distributions (fail to reject H0)')\n",
        "else:\n",
        "    print('Samples are likely drawn from different distributions (reject H0)')"
      ]
    },
    {
      "cell_type": "code",
      "execution_count": null,
      "metadata": {
        "id": "fSCH7XnFUgWb"
      },
      "outputs": [],
      "source": [
        "from statsmodels.formula.api import ols\n",
        "import statsmodels.api as sm"
      ]
    },
    {
      "cell_type": "code",
      "execution_count": null,
      "metadata": {
        "id": "VEzrd62jUisN"
      },
      "outputs": [],
      "source": [
        "numerical=df.select_dtypes(include=['int64','float']).columns.tolist()\n",
        "print(numerical)"
      ]
    },
    {
      "cell_type": "code",
      "execution_count": null,
      "metadata": {
        "id": "JXEYbdVeUjU3"
      },
      "outputs": [],
      "source": [
        "df.describe().T.round(2)"
      ]
    },
    {
      "cell_type": "code",
      "execution_count": null,
      "metadata": {
        "id": "9P4Qu0iZUn_F"
      },
      "outputs": [],
      "source": [
        "##importing stats module from scipy\n",
        "from scipy import stats\n",
        "## retrieving p value from normality test function\n",
        "PregnanciesPVAL=stats.normaltest(df.Pregnancies).pvalue\n",
        "GlucosePVAL=stats.normaltest(df.Glucose).pvalue\n",
        "BloodPressurePVAL=stats.normaltest(df.BloodPressure).pvalue\n",
        "SkinThicknessPVAL=stats.normaltest(df.SkinThickness).pvalue\n",
        "InsulinPVAL=stats.normaltest(df.Insulin).pvalue\n",
        "BMIPVAL=stats.normaltest(df.BMI).pvalue\n",
        "DiaPeFuPVAL=stats.normaltest(df.DiabetesPedigreeFunction).pvalue\n",
        "AgePVAL=stats.normaltest(df.Age).pvalue\n",
        "## Printing the values\n",
        "print(\"Pregnancies P Value is \" + str(PregnanciesPVAL))\n",
        "print(\"Glucose P Value is \" + str(GlucosePVAL))\n",
        "print(\"BloodPressure P Value is \" + str(BloodPressurePVAL))\n",
        "print(\"Skin Thickness P Value is \" + str(SkinThicknessPVAL))\n",
        "print(\"Insulin P Value is \" + str(InsulinPVAL))\n",
        "print(\"BMI P Value is \" + str(BMIPVAL))\n",
        "print(\"Diabetes Pedigree Function P Value is \" + str(DiaPeFuPVAL))\n",
        "print(\"Age P Value is \" + str(AgePVAL))"
      ]
    },
    {
      "cell_type": "markdown",
      "metadata": {
        "id": "q9fVOxcvmOrv"
      },
      "source": [
        "# Regression Analysis"
      ]
    },
    {
      "cell_type": "code",
      "execution_count": null,
      "metadata": {
        "id": "wqX0km-Wr1Ko"
      },
      "outputs": [],
      "source": [
        "#Lets build the model\n",
        "#Logistic Regression\n",
        "from sklearn.linear_model import LogisticRegression\n",
        "from sklearn.metrics import classification_report\n",
        "from sklearn.metrics import roc_auc_score\n",
        "from sklearn import metrics\n",
        "\n",
        "\n",
        "from sklearn.metrics import plot_confusion_matrix\n",
        "model = LogisticRegression(solver='liblinear')\n",
        "# instantiate the model\n",
        "\n",
        "model.fit(X_train, y_train)\n",
        "y_predict = model.predict(X_test)\n",
        "model_score = model.score(X_test, y_test)\n",
        "\n",
        "print(model_score)"
      ]
    },
    {
      "cell_type": "code",
      "execution_count": null,
      "metadata": {
        "id": "6dJa2vSpr8Oe"
      },
      "outputs": [],
      "source": [
        "plot_confusion_matrix(model, X_test, y_test, cmap=plt.cm.Blues);\n",
        "# Confusion"
      ]
    },
    {
      "cell_type": "code",
      "execution_count": null,
      "metadata": {
        "id": "rRmPt0Ikshy-"
      },
      "outputs": [],
      "source": [
        "accuracy = metrics.accuracy_score(y_test, y_predict)\n",
        "print(\"Accuracy: %.3f\" % accuracy)\n",
        "\n",
        "precision = metrics.precision_score(y_test, y_predict)\n",
        "print(\"Precision: %.3f\" % precision)\n",
        "\n",
        "recall = metrics.recall_score(y_test, y_predict)\n",
        "print(\"Recall: %.3f\" % recall)\n",
        "\n",
        "f1 = metrics.f1_score(y_test, y_predict)\n",
        "print(\"F1 Score: %.3f\" % f1)"
      ]
    },
    {
      "cell_type": "code",
      "execution_count": null,
      "metadata": {
        "id": "b5rR9SpytPJI"
      },
      "outputs": [],
      "source": [
        "y_pred_proba = model.predict_proba(X_test)[::,1]\n",
        "fpr, tpr, _ = metrics.roc_curve(y_test, y_pred_proba)\n",
        "auc = metrics.roc_auc_score(y_test, y_pred_proba)\n",
        "\n",
        "plt.figure(figsize=(12,8))\n",
        "plt.plot(fpr,tpr,label=\"Logistic Regression (Sensitivity = %0.3f)\" % auc)\n",
        "plt.legend(loc=4)\n",
        "plt.xlabel('False Positive Rate', size = 20)\n",
        "plt.ylabel('True Positive Rate', size = 20)\n",
        "plt.title(\"Receiver Operatinng Characteristics\", size = 25)\n",
        "plt.plot([0, 1], [0, 1],'r--')\n",
        "plt.legend(loc=4, fontsize='xx-large')\n",
        "plt.show()\n",
        "# AUC score for LR model is 0.807\n"
      ]
    },
    {
      "cell_type": "code",
      "execution_count": null,
      "metadata": {
        "id": "FZPJAfQjtZJv"
      },
      "outputs": [],
      "source": [
        "print(metrics.classification_report(y_test,y_predict))"
      ]
    },
    {
      "cell_type": "code",
      "execution_count": null,
      "metadata": {
        "id": "gUEjVuM8t4c7"
      },
      "outputs": [],
      "source": [
        "coeff = list(model.coef_[0])\n",
        "labels = list(X_test.columns)\n",
        "features = pd.DataFrame()\n",
        "features['Features'] = labels\n",
        "features['importance'] = coeff\n",
        "features.sort_values(by=['importance'], ascending=True, inplace=True)\n",
        "features['positive'] = features['importance'] > 0\n",
        "features.set_index('Features', inplace=True)\n",
        "features.importance.plot(kind='barh', figsize=(11, 6),color = features.positive.map({True: 'blue', False: 'red'}))\n",
        "plt.xlabel('Importance');"
      ]
    },
    {
      "cell_type": "markdown",
      "metadata": {
        "id": "ELbDX313miKQ"
      },
      "source": [
        "# Classification modelling"
      ]
    },
    {
      "cell_type": "code",
      "execution_count": null,
      "metadata": {
        "id": "wLgQHMkWuJn6"
      },
      "outputs": [],
      "source": [
        "from sklearn.neighbors import KNeighborsClassifier\n",
        "\n",
        "\n",
        "test_scores = []\n",
        "train_scores = []\n",
        "\n",
        "for i in range(1,15):\n",
        "\n",
        "    knn = KNeighborsClassifier(i)\n",
        "    knn.fit(X_train,y_train)\n",
        "\n",
        "    train_scores.append(knn.score(X_train,y_train))\n",
        "    test_scores.append(knn.score(X_test,y_test))\n",
        "## score that comes from testing on the same datapoints that were used for training\n",
        "max_train_score = max(train_scores)\n",
        "train_scores_ind = [i for i, v in enumerate(train_scores) if v == max_train_score]\n",
        "print('Max train score {} % and k = {}'.format(max_train_score*100,list(map(lambda x: x+1, train_scores_ind))))"
      ]
    },
    {
      "cell_type": "code",
      "execution_count": null,
      "metadata": {
        "id": "a6wgkRVvvEiD"
      },
      "outputs": [],
      "source": [
        "## score that comes from testing on the datapoints that were split in the beginning to be used for testing solely\n",
        "max_test_score = max(test_scores)\n",
        "test_scores_ind = [i for i, v in enumerate(test_scores) if v == max_test_score]\n",
        "print('Max test score {} % and k = {}'.format(max_test_score*100,list(map(lambda x: x+1, test_scores_ind))))"
      ]
    },
    {
      "cell_type": "code",
      "execution_count": null,
      "metadata": {
        "id": "xxZslB3TvFds"
      },
      "outputs": [],
      "source": [
        "#Result Visualisation\n",
        "plt.figure(figsize=(12,5))\n",
        "p = sns.lineplot(range(1,15),train_scores,marker='*',label='Train Score')\n",
        "p = sns.lineplot(range(1,15),test_scores,marker='o',label='Test Score')\n",
        "#The best result is captured at k = 11 hence 11 is used for the final model"
      ]
    },
    {
      "cell_type": "code",
      "execution_count": null,
      "metadata": {
        "id": "_GbAY3HpvVb2"
      },
      "outputs": [],
      "source": [
        "#Setup a knn classifier with k neighbors\n",
        "knn = KNeighborsClassifier(11)\n",
        "\n",
        "knn.fit(X_train,y_train)\n",
        "knn.score(X_test,y_test)"
      ]
    },
    {
      "cell_type": "code",
      "execution_count": null,
      "metadata": {
        "id": "fOkJjgvuvWK_"
      },
      "outputs": [],
      "source": [
        "## trying to plot decision boundary\n",
        "from mlxtend.plotting import plot_decision_regions\n",
        "value = 20000\n",
        "width = 20000\n",
        "plot_decision_regions(X.values, y.values, clf=knn, legend=2,\n",
        "                      filler_feature_values={2: value, 3: value, 4: value, 5: value, 6: value, 7: value},\n",
        "                      filler_feature_ranges={2: width, 3: width, 4: width, 5: width, 6: width, 7: width},\n",
        "                      X_highlight=X_test.values)\n",
        "\n",
        "# Adding axes annotations\n",
        "#plt.xlabel('sepal length [cm]')\n",
        "#plt.ylabel('petal length [cm]')\n",
        "plt.title('KNN with Diabetes Data')\n",
        "plt.show()"
      ]
    },
    {
      "cell_type": "code",
      "execution_count": null,
      "metadata": {
        "id": "ag_F7Knmvdv5"
      },
      "outputs": [],
      "source": [
        "#let us get the predictions using the classifier we had fit above\n",
        "y_pred = knn.predict(X_test)\n",
        "confusion_matrix(y_test,y_pred)\n",
        "pd.crosstab(y_test, y_pred, rownames=['True'], colnames=['Predicted'], margins=True)"
      ]
    },
    {
      "cell_type": "code",
      "execution_count": null,
      "metadata": {
        "id": "obhLS_KevkmM"
      },
      "outputs": [],
      "source": [
        "y_pred = knn.predict(X_test)\n",
        "from sklearn import metrics\n",
        "cnf_matrix = metrics.confusion_matrix(y_test, y_pred)\n",
        "p = sns.heatmap(pd.DataFrame(cnf_matrix), annot=True, cmap=\"YlGnBu\" ,fmt='g')\n",
        "plt.title('Confusion matrix', y=1.1)\n",
        "plt.ylabel('Actual label')\n",
        "plt.xlabel('Predicted label')"
      ]
    },
    {
      "cell_type": "code",
      "execution_count": null,
      "metadata": {
        "id": "c4FHoKtEvvcN"
      },
      "outputs": [],
      "source": [
        "#classification_report\n",
        "print(classification_report(y_test,y_pred))"
      ]
    },
    {
      "cell_type": "code",
      "execution_count": null,
      "metadata": {
        "id": "VxY9iSCwv5RZ"
      },
      "outputs": [],
      "source": [
        "from sklearn.metrics import roc_curve\n",
        "y_pred_proba = knn.predict_proba(X_test)[:,1]\n",
        "fpr, tpr, thresholds = roc_curve(y_test, y_pred_proba)\n",
        "plt.plot([0,1],[0,1],'k--')\n",
        "plt.plot(fpr,tpr, label='Knn')\n",
        "plt.xlabel('fpr')\n",
        "plt.ylabel('tpr')\n",
        "plt.title('Knn(n_neighbors=11) ROC curve')\n",
        "plt.show()"
      ]
    },
    {
      "cell_type": "code",
      "execution_count": null,
      "metadata": {
        "id": "0NigsgscwDub"
      },
      "outputs": [],
      "source": [
        "#Area under ROC curve\n",
        "roc_auc_score(y_test,y_pred_proba)"
      ]
    },
    {
      "cell_type": "markdown",
      "metadata": {
        "id": "tuM7WXFaw6Mt"
      },
      "source": [
        "# Clustering"
      ]
    },
    {
      "cell_type": "code",
      "execution_count": null,
      "metadata": {
        "id": "BBEHhriPw9ti"
      },
      "outputs": [],
      "source": [
        "#K-Mean\n",
        "#Age and BMI Cluster\n",
        "# elbow test to determine n\n",
        "from sklearn.cluster import KMeans\n",
        "\n",
        "# features to predict cluster on, only fitting model on X(train)\n",
        "X = X_train[['Age','BMI']]\n",
        "\n",
        "with plt.style.context('seaborn-whitegrid'):\n",
        "    plt.figure(figsize=(9, 6))\n",
        "    pd.Series({k: KMeans(k).fit(X).inertia_ for k in range(2, 18)}).plot(marker='x')\n",
        "    plt.xticks(range(2, 18))\n",
        "    plt.xlabel('k')\n",
        "    plt.ylabel('inertia')\n",
        "    plt.title('Change in inertia as k increases')"
      ]
    },
    {
      "cell_type": "code",
      "execution_count": null,
      "metadata": {
        "id": "3NdwQl89KaZ1"
      },
      "outputs": [],
      "source": [
        "# feature to create cluster on, only fitting model on X(train)\n",
        "X = X_train[['Pregnancies']]\n",
        "\n",
        "with plt.style.context('seaborn-whitegrid'):\n",
        "    plt.figure(figsize=(9, 6))\n",
        "    pd.Series({k: KMeans(k).fit(X).inertia_ for k in range(2, 18)}).plot(marker='x')\n",
        "    plt.xticks(range(2, 18))\n",
        "    plt.xlabel('k')\n",
        "    plt.ylabel('inertia')\n",
        "    plt.title('Change in inertia as k increases')\n",
        "\n",
        "# will start with 4 clusters"
      ]
    },
    {
      "cell_type": "code",
      "execution_count": null,
      "metadata": {
        "id": "QuvYnYd7KbRL"
      },
      "outputs": [],
      "source": [
        "# features to predict cluster on, only fitting model on X(train)\n",
        "X = X_train[['Insulin','Glucose']]\n",
        "\n",
        "with plt.style.context('seaborn-whitegrid'):\n",
        "    plt.figure(figsize=(9, 6))\n",
        "    pd.Series({k: KMeans(k).fit(X).inertia_ for k in range(2, 18)}).plot(marker='x')\n",
        "    plt.xticks(range(2, 18))\n",
        "    plt.xlabel('k')\n",
        "    plt.ylabel('inertia')\n",
        "    plt.title('Change in inertia as k increases')\n",
        "\n",
        "# will start with 5 clusters"
      ]
    },
    {
      "cell_type": "code",
      "execution_count": null,
      "metadata": {
        "id": "L61LbTKVKi7c"
      },
      "outputs": [],
      "source": [
        "# features to predict cluster on, only fitting model on X(train)\n",
        "X = X_train[['Glucose']]\n",
        "\n",
        "with plt.style.context('seaborn-whitegrid'):\n",
        "    plt.figure(figsize=(9, 6))\n",
        "    pd.Series({k: KMeans(k).fit(X).inertia_ for k in range(2, 18)}).plot(marker='x')\n",
        "    plt.xticks(range(2, 18))\n",
        "    plt.xlabel('k')\n",
        "    plt.ylabel('inertia')\n",
        "    plt.title('Change in inertia as k increases')\n",
        "\n",
        "# will start with 5 clusters"
      ]
    },
    {
      "cell_type": "markdown",
      "metadata": {
        "id": "4wa2LnrS1pDM"
      },
      "source": [
        "# Using any machine learning techniques using available data set to develop a recommendation system.\n",
        "\n"
      ]
    },
    {
      "cell_type": "code",
      "execution_count": null,
      "metadata": {
        "id": "cTT1xg8l1n9a"
      },
      "outputs": [],
      "source": [
        "#XGBoost\n",
        "from xgboost import XGBClassifier\n",
        "\n",
        "xgb_model =XGBClassifier(gamma=0)\n",
        "xgb_model.fit(X_train, y_train)"
      ]
    },
    {
      "cell_type": "code",
      "execution_count": null,
      "metadata": {
        "id": "jZdAbKp96O_i"
      },
      "outputs": [],
      "source": [
        "xgb_pred = xgb_model.predict(X_test)\n",
        "print(\"Accuracy Score =\", format(metrics.accuracy_score(y_test, xgb_pred)))\n",
        "#XGBoost seems to be doing well with an accuracy score of 0.7795."
      ]
    },
    {
      "cell_type": "code",
      "execution_count": null,
      "metadata": {
        "id": "3IpxEv4q6sm8"
      },
      "outputs": [],
      "source": [
        "print(confusion_matrix(y_test, xgb_pred))\n",
        "print(classification_report(y_test, xgb_pred))"
      ]
    },
    {
      "cell_type": "code",
      "execution_count": null,
      "metadata": {
        "id": "sBNEjeAy7ABF"
      },
      "outputs": [],
      "source": [
        "xgb_model.feature_importances_"
      ]
    },
    {
      "cell_type": "code",
      "execution_count": null,
      "metadata": {
        "id": "jib9BryX7FKq"
      },
      "outputs": [],
      "source": [
        "(pd.Series(xgb_model.feature_importances_).plot(kind='barh'))"
      ]
    },
    {
      "cell_type": "code",
      "execution_count": null,
      "metadata": {
        "id": "hKjJn32u7pn3"
      },
      "outputs": [],
      "source": [
        "#Predction\n",
        "#printing the prediction probabities for the the test data\n",
        "print('Prediction Probabilities')\n",
        "xgb_model.predict_proba(X_test)"
      ]
    },
    {
      "cell_type": "markdown",
      "metadata": {
        "id": "v3Kaw5Z5AcyQ"
      },
      "source": [
        "# Exploratory data analysis using Apache Spark and Pandas"
      ]
    },
    {
      "cell_type": "code",
      "execution_count": null,
      "metadata": {
        "id": "WTe9mhzbAk61"
      },
      "outputs": [],
      "source": [
        "!pip install pyspark"
      ]
    },
    {
      "cell_type": "code",
      "execution_count": null,
      "metadata": {
        "id": "53gfYSXrAqQ3"
      },
      "outputs": [],
      "source": [
        "import pyspark"
      ]
    },
    {
      "cell_type": "code",
      "execution_count": null,
      "metadata": {
        "id": "9wjYhc3SAtYg"
      },
      "outputs": [],
      "source": [
        "pyspark.__version__"
      ]
    },
    {
      "cell_type": "code",
      "execution_count": null,
      "metadata": {
        "id": "MPhOHG1sCGan"
      },
      "outputs": [],
      "source": [
        "from pyspark.sql import SparkSession\n",
        "spark = SparkSession.builder.appName('ml-diabetes').getOrCreate()\n",
        "df = spark.read.csv('diabetes.csv', header = True, inferSchema = True)\n",
        "df.printSchema()"
      ]
    },
    {
      "cell_type": "code",
      "execution_count": null,
      "metadata": {
        "id": "yZSm9RXrDcTT"
      },
      "outputs": [],
      "source": [
        "import pandas as pd\n",
        "pd.DataFrame(df.take(5), columns=df.columns).transpose()"
      ]
    },
    {
      "cell_type": "code",
      "execution_count": null,
      "metadata": {
        "id": "rT8buxmoDgRl"
      },
      "outputs": [],
      "source": [
        "df.groupby('Outcome').count().toPandas()"
      ]
    },
    {
      "cell_type": "code",
      "execution_count": null,
      "metadata": {
        "id": "N9zRRQeUDk9W"
      },
      "outputs": [],
      "source": [
        "numeric_features = [t[0] for t in df.dtypes if t[1] == 'int']\n",
        "df.select(numeric_features).describe().toPandas().transpose()"
      ]
    },
    {
      "cell_type": "code",
      "execution_count": null,
      "metadata": {
        "id": "QHgdd1zWEjCn"
      },
      "outputs": [],
      "source": [
        "## See if we have missing values\n",
        "from pyspark.sql.functions import isnull, when, count, col\n",
        "\n",
        "df.select([count(when(isnull(c), c)).alias(c) for c in df.columns]).show()"
      ]
    },
    {
      "cell_type": "code",
      "execution_count": null,
      "metadata": {
        "id": "GddHwJ17ELOd"
      },
      "outputs": [],
      "source": [
        "from pyspark.ml.feature import VectorAssembler\n",
        "features = ['Pregnancies','Glucose','BloodPressure',\n",
        "'SkinThickness','Insulin','BMI','DiabetesPedigreeFunction','Age']\n",
        "vector_assembler = VectorAssembler(inputCols = features,\n",
        "                                   outputCol= \"features\")\n",
        "data_training_and_test = vector_assembler.transform(df)"
      ]
    }
  ],
  "metadata": {
    "colab": {
      "collapsed_sections": [
        "SDVQFX4cid_C",
        "CuQbGMs1m2OD",
        "c8YnEr05UCMD",
        "q9fVOxcvmOrv",
        "ELbDX313miKQ",
        "tuM7WXFaw6Mt",
        "4wa2LnrS1pDM",
        "v3Kaw5Z5AcyQ"
      ],
      "provenance": []
    },
    "kernelspec": {
      "display_name": "Python 3",
      "name": "python3"
    },
    "language_info": {
      "name": "python"
    }
  },
  "nbformat": 4,
  "nbformat_minor": 0
}